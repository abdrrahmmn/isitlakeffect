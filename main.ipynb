{
 "cells": [
  {
   "cell_type": "code",
   "execution_count": null,
   "metadata": {},
   "outputs": [],
   "source": [
    "import xarray as xr\n",
    "import salem\n",
    "import numpy as np\n",
    "import cartopy.crs as ccrs\n",
    "import cartopy.feature as cfeature\n",
    "from wrf import to_np\n",
    "import matplotlib.pyplot as plt\n",
    "\n",
    "ncfile1='./pressure_levels.nc'\n",
    "ncfile2='./single_level.nc'\n"
   ]
  },
  {
   "cell_type": "code",
   "execution_count": null,
   "metadata": {},
   "outputs": [],
   "source": [
    "slevel = salem.open_xr_dataset(ncfile2)\n",
    "plevels = salem.open_xr_dataset(ncfile1)\n",
    "\n",
    "lats = plevels.latitude.data\n",
    "lons = plevels.longitude.data\n",
    "\n",
    "qtime = 4\n",
    "\n",
    "t850 = plevels.t.isel(time=qtime,level=1)-273.15\n",
    "sst = slevel.sst.isel(time=qtime)-273.15\n",
    "\n",
    "u850 =plevels.u.isel(time=qtime,level=1)\n",
    "v850 =plevels.v.isel(time=qtime,level=1)\n",
    "R850 = np.sqrt(u850**2+v850**2)\n",
    "teta850 = ((np.arccos(u850/R850)*180/np.pi))\n",
    "\n",
    "u700 =plevels.u.isel(time=qtime,level=1)\n",
    "v700 =plevels.v.isel(time=qtime,level=1)\n",
    "R700 = np.sqrt(u700**2+v700**2)\n",
    "teta700 = ((np.arccos(u700/R700)*180/np.pi))\n",
    "\n",
    "u_surf =slevel.u10.isel(time=qtime)\n",
    "v_surf =slevel.v10.isel(time=qtime)\n",
    "R_surf = np.sqrt(u_surf**2+v_surf**2)\n",
    "teta_surf = np.abs((np.arccos(u_surf/R_surf)*180/np.pi)-180)\n",
    "\n",
    "tarih = np.datetime_as_string(plevels.time[qtime].data).split(':00.')[0]\n"
   ]
  },
  {
   "cell_type": "code",
   "execution_count": null,
   "metadata": {},
   "outputs": [],
   "source": [
    "#1. Adim Deniz suyu sicakligi ile 850 mb seviyesi sicaklik farki 12 dereceden fazla mi ?\n",
    "plt.figure(figsize=(7,10),dpi=300)\n",
    "smap = sst.salem.get_map(data=sst-t850,cmap='RdYlBu_r')\n",
    "smap.visualize(title=f'SST ile T850mb Farkı {tarih} UTC',cbar_title='C')\n",
    "plt.savefig('SST-T850.png')"
   ]
  },
  {
   "cell_type": "code",
   "execution_count": null,
   "metadata": {},
   "outputs": [],
   "source": [
    "#2. Adim Ruzgar yonu yerde ve 850 mbda 10-70 derece arasinda mi degisiyor ?\n",
    "\n",
    "fig,ax = plt.subplots(figsize=(7,10),dpi=300)\n",
    "smap = plevels.salem.get_map(countries=True)\n",
    "smap.set_shapefile(countries=True, color='grey')\n",
    "smap.plot(ax=ax)\n",
    "\n",
    "xx, yy = smap.grid.transform(lons[:],lats[:],\n",
    "                                 crs=u850.salem.grid.proj)\n",
    "\n",
    "ax.barbs(xx[:],yy[:],u850[:], v850[:],length=5,barbcolor='purple',rounding=True)\n",
    "plt.title(f'850mb Rüzgar Şiddeti ve Yönü {tarih} UTC')\n",
    "plt.savefig('850mb Ruzgar Yonu.png')\n",
    "\n",
    "fig,ax = plt.subplots(figsize=(7,10),dpi=300)\n",
    "smap = plevels.salem.get_map(countries=True)\n",
    "smap.set_shapefile(countries=True, color='grey')\n",
    "smap.plot(ax=ax)\n",
    "\n",
    "xx, yy = smap.grid.transform(lons[:],lats[:],\n",
    "                                 crs=u850.salem.grid.proj)\n",
    "\n",
    "#Verilerin cizdirilme sikligi dusurulebilir\n",
    "ax.barbs(xx[:],yy[:],u_surf[:], v_surf[:],length=4,barbcolor='purple',rounding=True)\n",
    "plt.title(f'Yüzey Rüzgar Şiddeti ve Yönü {tarih} UTC')\n",
    "plt.savefig('Yüzey Ruzgar Yonu.png')\n",
    "\n",
    "#Buraya interaktif bir harita eklenip dokunulan yerdeki ruzgar yonu verisinin degerini gosterebilir"
   ]
  },
  {
   "cell_type": "code",
   "execution_count": null,
   "metadata": {},
   "outputs": [],
   "source": [
    "#3. Adim Yer seviyesi ve 700 mb arasidndaki ruzgar yonu shear <30 ?\n",
    "fig,ax = plt.subplots(figsize=(7,10),dpi=300)\n",
    "smap = plevels.salem.get_map(countries=True)\n",
    "smap.set_shapefile(countries=True, color='grey')\n",
    "smap.plot(ax=ax)\n",
    "\n",
    "xx, yy = smap.grid.transform(lons[:],lats[:],\n",
    "                                 crs=u850.salem.grid.proj)\n",
    "\n",
    "#Verilerin cizdirilme sikligi dusurulebilir\n",
    "ax.barbs(xx[:],yy[:],u700[:], v700[:],length=4,barbcolor='purple',rounding=True)\n",
    "plt.title('700mb Rüzgar Şiddeti ve Yönü')\n",
    "plt.savefig('700mb Ruzgar Yonu.png')\n"
   ]
  },
  {
   "cell_type": "code",
   "execution_count": null,
   "metadata": {},
   "outputs": [],
   "source": [
    "def gol_etkisi(t850, sst, u850, v850, u700, v700, uSurf, vSurf):\n",
    "    pass\n",
    "lons[12]"
   ]
  },
  {
   "cell_type": "code",
   "execution_count": null,
   "metadata": {},
   "outputs": [],
   "source": []
  }
 ],
 "metadata": {
  "interpreter": {
   "hash": "9516517527f2dcdfbe83dcd0446d2919ead0221974cef93f3903bab990da8a39"
  },
  "kernelspec": {
   "display_name": "Python 3.6.13 64-bit ('myenv': conda)",
   "name": "python3"
  },
  "language_info": {
   "codemirror_mode": {
    "name": "ipython",
    "version": 3
   },
   "file_extension": ".py",
   "mimetype": "text/x-python",
   "name": "python",
   "nbconvert_exporter": "python",
   "pygments_lexer": "ipython3",
   "version": "3.6.13"
  },
  "orig_nbformat": 4
 },
 "nbformat": 4,
 "nbformat_minor": 2
}
